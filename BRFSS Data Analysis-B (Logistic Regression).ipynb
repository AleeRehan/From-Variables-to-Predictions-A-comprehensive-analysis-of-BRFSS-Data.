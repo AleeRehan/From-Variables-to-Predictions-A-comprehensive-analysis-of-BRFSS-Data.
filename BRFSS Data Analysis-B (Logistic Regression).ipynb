{
 "cells": [
  {
   "cell_type": "code",
   "execution_count": 1,
   "id": "54c731f3",
   "metadata": {},
   "outputs": [],
   "source": [
    "import matplotlib.pyplot as plt\n",
    "import seaborn as sns\n",
    "import pandas as pd\n",
    "import statsmodels.api as sm\n",
    "import numpy as np\n",
    "import warnings\n",
    "warnings.filterwarnings('ignore')"
   ]
  },
  {
   "cell_type": "code",
   "execution_count": 3,
   "id": "02c136a0",
   "metadata": {},
   "outputs": [
    {
     "data": {
      "text/html": [
       "<div>\n",
       "<style scoped>\n",
       "    .dataframe tbody tr th:only-of-type {\n",
       "        vertical-align: middle;\n",
       "    }\n",
       "\n",
       "    .dataframe tbody tr th {\n",
       "        vertical-align: top;\n",
       "    }\n",
       "\n",
       "    .dataframe thead th {\n",
       "        text-align: right;\n",
       "    }\n",
       "</style>\n",
       "<table border=\"1\" class=\"dataframe\">\n",
       "  <thead>\n",
       "    <tr style=\"text-align: right;\">\n",
       "      <th></th>\n",
       "      <th>Unnamed: 0</th>\n",
       "      <th>_AGE80</th>\n",
       "      <th>age</th>\n",
       "      <th>gender</th>\n",
       "      <th>race</th>\n",
       "      <th>stroke_status</th>\n",
       "      <th>smoking_status</th>\n",
       "      <th>diabetes_status</th>\n",
       "      <th>bmi_groups</th>\n",
       "      <th>physical_activity</th>\n",
       "      <th>heavy_drinker</th>\n",
       "      <th>illicit_drugs</th>\n",
       "      <th>heart_attack</th>\n",
       "      <th>angina_chd</th>\n",
       "    </tr>\n",
       "  </thead>\n",
       "  <tbody>\n",
       "    <tr>\n",
       "      <th>0</th>\n",
       "      <td>0</td>\n",
       "      <td>56.0</td>\n",
       "      <td>8.0</td>\n",
       "      <td>2.0</td>\n",
       "      <td>1.0</td>\n",
       "      <td>2.0</td>\n",
       "      <td>1.0</td>\n",
       "      <td>1.0</td>\n",
       "      <td>1.0</td>\n",
       "      <td>1.0</td>\n",
       "      <td>1.0</td>\n",
       "      <td>NaN</td>\n",
       "      <td>2.0</td>\n",
       "      <td>2.0</td>\n",
       "    </tr>\n",
       "    <tr>\n",
       "      <th>1</th>\n",
       "      <td>1</td>\n",
       "      <td>65.0</td>\n",
       "      <td>10.0</td>\n",
       "      <td>2.0</td>\n",
       "      <td>2.0</td>\n",
       "      <td>2.0</td>\n",
       "      <td>9.0</td>\n",
       "      <td>3.0</td>\n",
       "      <td>2.0</td>\n",
       "      <td>1.0</td>\n",
       "      <td>9.0</td>\n",
       "      <td>NaN</td>\n",
       "      <td>2.0</td>\n",
       "      <td>2.0</td>\n",
       "    </tr>\n",
       "    <tr>\n",
       "      <th>2</th>\n",
       "      <td>2</td>\n",
       "      <td>65.0</td>\n",
       "      <td>10.0</td>\n",
       "      <td>2.0</td>\n",
       "      <td>2.0</td>\n",
       "      <td>2.0</td>\n",
       "      <td>4.0</td>\n",
       "      <td>3.0</td>\n",
       "      <td>9.0</td>\n",
       "      <td>1.0</td>\n",
       "      <td>1.0</td>\n",
       "      <td>NaN</td>\n",
       "      <td>2.0</td>\n",
       "      <td>2.0</td>\n",
       "    </tr>\n",
       "    <tr>\n",
       "      <th>3</th>\n",
       "      <td>3</td>\n",
       "      <td>80.0</td>\n",
       "      <td>13.0</td>\n",
       "      <td>2.0</td>\n",
       "      <td>1.0</td>\n",
       "      <td>2.0</td>\n",
       "      <td>4.0</td>\n",
       "      <td>3.0</td>\n",
       "      <td>9.0</td>\n",
       "      <td>2.0</td>\n",
       "      <td>1.0</td>\n",
       "      <td>NaN</td>\n",
       "      <td>2.0</td>\n",
       "      <td>2.0</td>\n",
       "    </tr>\n",
       "    <tr>\n",
       "      <th>4</th>\n",
       "      <td>4</td>\n",
       "      <td>80.0</td>\n",
       "      <td>13.0</td>\n",
       "      <td>2.0</td>\n",
       "      <td>1.0</td>\n",
       "      <td>1.0</td>\n",
       "      <td>4.0</td>\n",
       "      <td>3.0</td>\n",
       "      <td>1.0</td>\n",
       "      <td>1.0</td>\n",
       "      <td>1.0</td>\n",
       "      <td>NaN</td>\n",
       "      <td>2.0</td>\n",
       "      <td>2.0</td>\n",
       "    </tr>\n",
       "  </tbody>\n",
       "</table>\n",
       "</div>"
      ],
      "text/plain": [
       "   Unnamed: 0  _AGE80   age  gender  race  stroke_status  smoking_status  \\\n",
       "0           0    56.0   8.0     2.0   1.0            2.0             1.0   \n",
       "1           1    65.0  10.0     2.0   2.0            2.0             9.0   \n",
       "2           2    65.0  10.0     2.0   2.0            2.0             4.0   \n",
       "3           3    80.0  13.0     2.0   1.0            2.0             4.0   \n",
       "4           4    80.0  13.0     2.0   1.0            1.0             4.0   \n",
       "\n",
       "   diabetes_status  bmi_groups  physical_activity  heavy_drinker  \\\n",
       "0              1.0         1.0                1.0            1.0   \n",
       "1              3.0         2.0                1.0            9.0   \n",
       "2              3.0         9.0                1.0            1.0   \n",
       "3              3.0         9.0                2.0            1.0   \n",
       "4              3.0         1.0                1.0            1.0   \n",
       "\n",
       "   illicit_drugs  heart_attack  angina_chd  \n",
       "0            NaN           2.0         2.0  \n",
       "1            NaN           2.0         2.0  \n",
       "2            NaN           2.0         2.0  \n",
       "3            NaN           2.0         2.0  \n",
       "4            NaN           2.0         2.0  "
      ]
     },
     "execution_count": 3,
     "metadata": {},
     "output_type": "execute_result"
    }
   ],
   "source": [
    "stroke_rf = pd.read_csv('stroke_rf.csv')\n",
    "pd.set_option('display.max_columns', None)\n",
    "stroke_rf.head()"
   ]
  },
  {
   "cell_type": "markdown",
   "id": "848b4118",
   "metadata": {},
   "source": [
    "# Mapping of Columns' Data"
   ]
  },
  {
   "cell_type": "markdown",
   "id": "17ea50e3",
   "metadata": {},
   "source": [
    "### smoking_status"
   ]
  },
  {
   "cell_type": "code",
   "execution_count": 5,
   "id": "85b5830d",
   "metadata": {},
   "outputs": [
    {
     "data": {
      "image/png": "[encoded data removed]",
      "text/plain": [
       "<Figure size 640x480 with 1 Axes>"
      ]
     },
     "metadata": {},
     "output_type": "display_data"
    }
   ],
   "source": [
    "stroke_rf['smoking_status'].value_counts()\n",
    "\n",
    "# Drop rows where 'smoking_status' is 9\n",
    "stroke_rf.drop(stroke_rf[stroke_rf['smoking_status'] == 9].index, inplace=True)\n",
    "\n",
    "# Replace values in 'smoking_status'\n",
    "#chg = {2: 1, 3: 1, 4: 0}\n",
    "#stroke_rf['smoking_status'].replace(to_replace=chg, inplace=True)\n",
    "\n",
    "sns.countplot(x='smoking_status', hue='gender', data=stroke_rf)\n",
    "plt.show()\n"
   ]
  },
  {
   "cell_type": "code",
   "execution_count": 6,
   "id": "2b5b5ddb",
   "metadata": {},
   "outputs": [
    {
     "data": {
      "text/plain": [
       "array([1., 4., 3., 2.])"
      ]
     },
     "execution_count": 6,
     "metadata": {},
     "output_type": "execute_result"
    }
   ],
   "source": [
    "stroke_rf['smoking_status'].unique()"
   ]
  },
  {
   "cell_type": "markdown",
   "id": "2573beef",
   "metadata": {},
   "source": [
    "### stroke_status"
   ]
  },
  {
   "cell_type": "code",
   "execution_count": 7,
   "id": "a9df2f0d",
   "metadata": {},
   "outputs": [
    {
     "data": {
      "text/plain": [
       "array([2., 1., 7., 9.])"
      ]
     },
     "execution_count": 7,
     "metadata": {},
     "output_type": "execute_result"
    }
   ],
   "source": [
    "stroke_rf['stroke_status'].unique()"
   ]
  },
  {
   "cell_type": "code",
   "execution_count": 8,
   "id": "098ca1cd",
   "metadata": {},
   "outputs": [
    {
     "data": {
      "text/plain": [
       "<AxesSubplot:xlabel='stroke_status', ylabel='count'>"
      ]
     },
     "execution_count": 8,
     "metadata": {},
     "output_type": "execute_result"
    },
    {
     "data": {
      "image/png": "[encoded data removed]",
      "text/plain": [
       "<Figure size 640x480 with 1 Axes>"
      ]
     },
     "metadata": {},
     "output_type": "display_data"
    }
   ],
   "source": [
    "stroke_rf['stroke_status'].value_counts()\n",
    "stroke_rf.drop(stroke_rf[stroke_rf['stroke_status'] == 7].index, inplace = True)\n",
    "stroke_rf.drop(stroke_rf[stroke_rf['stroke_status'] == 9].index, inplace = True)\n",
    "#df_selected = df_selected.rename(columns={\"_AGE65YR\":\"Over 65 Years Old\"})\n",
    "sns.countplot(x='stroke_status', hue='gender', data=stroke_rf)"
   ]
  },
  {
   "cell_type": "code",
   "execution_count": 9,
   "id": "691cae40",
   "metadata": {},
   "outputs": [
    {
     "data": {
      "text/plain": [
       "array([ 2.,  1.,  7.,  9., nan])"
      ]
     },
     "execution_count": 9,
     "metadata": {},
     "output_type": "execute_result"
    }
   ],
   "source": [
    "stroke_rf['heart_attack'].unique()"
   ]
  },
  {
   "cell_type": "code",
   "execution_count": 10,
   "id": "949fa193",
   "metadata": {},
   "outputs": [],
   "source": [
    "chg_stroke = {2: 0}\n",
    "stroke_rf['stroke_status'].replace(to_replace=chg_stroke, inplace=True)\n"
   ]
  },
  {
   "cell_type": "code",
   "execution_count": 11,
   "id": "6c90bf76",
   "metadata": {},
   "outputs": [],
   "source": [
    "chg_age = {2: 1, 1: 0}\n",
    "stroke_rf['age'].replace(to_replace=chg_age, inplace=True)"
   ]
  },
  {
   "cell_type": "code",
   "execution_count": 12,
   "id": "9465de96",
   "metadata": {},
   "outputs": [
    {
     "data": {
      "text/plain": [
       "array([ 8., 10., 13., 12.,  5., 11.,  9.,  7.,  6.,  0., 14.,  4.,  1.,\n",
       "        3.])"
      ]
     },
     "execution_count": 12,
     "metadata": {},
     "output_type": "execute_result"
    }
   ],
   "source": [
    "stroke_rf['age'].unique()"
   ]
  },
  {
   "cell_type": "code",
   "execution_count": 13,
   "id": "15945dc8",
   "metadata": {},
   "outputs": [],
   "source": [
    "chg_gender = {2: 'Female', 1: 'Male'}\n",
    "stroke_rf['gender'].replace(to_replace=chg_gender, inplace=True)"
   ]
  },
  {
   "cell_type": "code",
   "execution_count": 14,
   "id": "3abfa7d7",
   "metadata": {},
   "outputs": [],
   "source": [
    "chg_race = {1: 'White', 2: 'Black', 'Asian': 'Acian', 4: 'Alaskan', 5: 'Hispanic', 6: 'Other'}\n",
    "stroke_rf['race'].replace(to_replace=chg_race, inplace=True)"
   ]
  },
  {
   "cell_type": "code",
   "execution_count": 15,
   "id": "67aed9f7",
   "metadata": {},
   "outputs": [],
   "source": [
    "chg_smoking = {1: 'EveryDay', 2: 'SomeDay', 3: 'Former', 4: 'ANonSmk'}\n",
    "stroke_rf['smoking_status'].replace(to_replace=chg_smoking, inplace=True)"
   ]
  },
  {
   "cell_type": "code",
   "execution_count": 16,
   "id": "78a19db0",
   "metadata": {},
   "outputs": [
    {
     "data": {
      "text/plain": [
       "array([1., 3., 4., 2., 7., 9.])"
      ]
     },
     "execution_count": 16,
     "metadata": {},
     "output_type": "execute_result"
    }
   ],
   "source": [
    "stroke_rf['diabetes_status'].unique()"
   ]
  },
  {
   "cell_type": "code",
   "execution_count": 17,
   "id": "1fa44179",
   "metadata": {},
   "outputs": [],
   "source": [
    "stroke_rf.drop(stroke_rf[stroke_rf['diabetes_status'] == 7].index, inplace = True)\n",
    "stroke_rf.drop(stroke_rf[stroke_rf['diabetes_status'] == 9].index, inplace = True)\n",
    "\n",
    "chg_diabetes = {1: 'Diabetic', 2: 'PrgDiabetic', 3: 'ADiabetic', 4: 'ADiabetic'}\n",
    "stroke_rf['diabetes_status'].replace(to_replace=chg_diabetes, inplace=True)"
   ]
  },
  {
   "cell_type": "code",
   "execution_count": 18,
   "id": "aa1a164d",
   "metadata": {},
   "outputs": [],
   "source": [
    "stroke_rf.drop(stroke_rf[stroke_rf['bmi_groups'] == 9].index, inplace = True)\n",
    "\n",
    "chg_bmi = {1: 0, 2: 1}\n",
    "stroke_rf['bmi_groups'].replace(to_replace=chg_bmi, inplace=True)"
   ]
  },
  {
   "cell_type": "code",
   "execution_count": 19,
   "id": "76de9bc0",
   "metadata": {},
   "outputs": [
    {
     "data": {
      "text/plain": [
       "array([0., 1.])"
      ]
     },
     "execution_count": 19,
     "metadata": {},
     "output_type": "execute_result"
    }
   ],
   "source": [
    "stroke_rf['bmi_groups'].unique()"
   ]
  },
  {
   "cell_type": "code",
   "execution_count": 20,
   "id": "7103410d",
   "metadata": {},
   "outputs": [
    {
     "data": {
      "text/plain": [
       "array([1., 9., 2.])"
      ]
     },
     "execution_count": 20,
     "metadata": {},
     "output_type": "execute_result"
    }
   ],
   "source": [
    "stroke_rf['heavy_drinker'].unique()"
   ]
  },
  {
   "cell_type": "code",
   "execution_count": 21,
   "id": "5ec58665",
   "metadata": {},
   "outputs": [],
   "source": [
    "stroke_rf.drop(stroke_rf[stroke_rf['heavy_drinker'] == 9].index, inplace = True)\n",
    "\n",
    "chg_drinker = {1: 0, 2: 1}\n",
    "stroke_rf['heavy_drinker'].replace(to_replace=chg_drinker, inplace=True)"
   ]
  },
  {
   "cell_type": "code",
   "execution_count": 22,
   "id": "8331702a",
   "metadata": {},
   "outputs": [
    {
     "data": {
      "text/plain": [
       "array([ 2.,  1.,  7.,  9., nan])"
      ]
     },
     "execution_count": 22,
     "metadata": {},
     "output_type": "execute_result"
    }
   ],
   "source": [
    "stroke_rf['heart_attack'].unique()"
   ]
  },
  {
   "cell_type": "code",
   "execution_count": 23,
   "id": "090d5f89",
   "metadata": {},
   "outputs": [],
   "source": [
    "stroke_rf.drop(stroke_rf[stroke_rf['heart_attack'] == 7].index, inplace = True)\n",
    "stroke_rf.drop(stroke_rf[stroke_rf['heart_attack'] == 9].index, inplace = True)\n",
    "\n",
    "chg_hrtattack = {2: 0}\n",
    "stroke_rf['heart_attack'].replace(to_replace=chg_hrtattack, inplace=True)"
   ]
  },
  {
   "cell_type": "code",
   "execution_count": 24,
   "id": "9bc82f82",
   "metadata": {},
   "outputs": [
    {
     "data": {
      "text/plain": [
       "array([1., 2., 9.])"
      ]
     },
     "execution_count": 24,
     "metadata": {},
     "output_type": "execute_result"
    }
   ],
   "source": [
    "stroke_rf['physical_activity'].unique()"
   ]
  },
  {
   "cell_type": "code",
   "execution_count": 25,
   "id": "60ebaa01",
   "metadata": {},
   "outputs": [],
   "source": [
    "stroke_rf.drop(stroke_rf[stroke_rf['physical_activity'] == 9].index, inplace = True)\n",
    "\n",
    "chg_phactivity = {2: 0}\n",
    "stroke_rf['physical_activity'].replace(to_replace=chg_phactivity, inplace=True)"
   ]
  },
  {
   "cell_type": "code",
   "execution_count": 27,
   "id": "5c99af86",
   "metadata": {},
   "outputs": [],
   "source": [
    "stroke_rf.rename(columns={\"_AGE80\": \"_Age\"}, inplace=True)"
   ]
  },
  {
   "cell_type": "markdown",
   "id": "187d6d38",
   "metadata": {},
   "source": [
    "# Applying Logistic Regression Model"
   ]
  },
  {
   "cell_type": "code",
   "execution_count": 29,
   "id": "accada1e",
   "metadata": {},
   "outputs": [
    {
     "data": {
      "text/html": [
       "<table class=\"simpletable\">\n",
       "<caption>Generalized Linear Model Regression Results</caption>\n",
       "<tr>\n",
       "  <th>Dep. Variable:</th>     <td>stroke_status</td>  <th>  No. Observations:  </th>  <td>339803</td> \n",
       "</tr>\n",
       "<tr>\n",
       "  <th>Model:</th>                  <td>GLM</td>       <th>  Df Residuals:      </th>  <td>339787</td> \n",
       "</tr>\n",
       "<tr>\n",
       "  <th>Model Family:</th>        <td>Binomial</td>     <th>  Df Model:          </th>  <td>    15</td> \n",
       "</tr>\n",
       "<tr>\n",
       "  <th>Link Function:</th>         <td>Logit</td>      <th>  Scale:             </th> <td>  1.0000</td>\n",
       "</tr>\n",
       "<tr>\n",
       "  <th>Method:</th>                <td>IRLS</td>       <th>  Log-Likelihood:    </th> <td> -49506.</td>\n",
       "</tr>\n",
       "<tr>\n",
       "  <th>Date:</th>            <td>Fri, 19 Jan 2024</td> <th>  Deviance:          </th> <td>  99012.</td>\n",
       "</tr>\n",
       "<tr>\n",
       "  <th>Time:</th>                <td>19:48:04</td>     <th>  Pearson chi2:      </th> <td>3.06e+05</td>\n",
       "</tr>\n",
       "<tr>\n",
       "  <th>No. Iterations:</th>          <td>8</td>        <th>  Pseudo R-squ. (CS):</th>  <td>0.04184</td>\n",
       "</tr>\n",
       "<tr>\n",
       "  <th>Covariance Type:</th>     <td>nonrobust</td>    <th>                     </th>     <td> </td>   \n",
       "</tr>\n",
       "</table>\n",
       "<table class=\"simpletable\">\n",
       "<tr>\n",
       "                 <td></td>                   <th>coef</th>     <th>std err</th>      <th>z</th>      <th>P>|z|</th>  <th>[0.025</th>    <th>0.975]</th>  \n",
       "</tr>\n",
       "<tr>\n",
       "  <th>Intercept</th>                      <td>   -6.2583</td> <td>    0.096</td> <td>  -65.091</td> <td> 0.000</td> <td>   -6.447</td> <td>   -6.070</td>\n",
       "</tr>\n",
       "<tr>\n",
       "  <th>smoking_status[T.EveryDay]</th>     <td>    0.6539</td> <td>    0.029</td> <td>   22.778</td> <td> 0.000</td> <td>    0.598</td> <td>    0.710</td>\n",
       "</tr>\n",
       "<tr>\n",
       "  <th>smoking_status[T.Former]</th>       <td>    0.2148</td> <td>    0.021</td> <td>   10.396</td> <td> 0.000</td> <td>    0.174</td> <td>    0.255</td>\n",
       "</tr>\n",
       "<tr>\n",
       "  <th>smoking_status[T.SomeDay]</th>      <td>    0.6704</td> <td>    0.044</td> <td>   15.297</td> <td> 0.000</td> <td>    0.584</td> <td>    0.756</td>\n",
       "</tr>\n",
       "<tr>\n",
       "  <th>race[T.Alaskan]</th>                <td>    0.5937</td> <td>    0.101</td> <td>    5.900</td> <td> 0.000</td> <td>    0.396</td> <td>    0.791</td>\n",
       "</tr>\n",
       "<tr>\n",
       "  <th>race[T.Black]</th>                  <td>    0.6484</td> <td>    0.087</td> <td>    7.484</td> <td> 0.000</td> <td>    0.479</td> <td>    0.818</td>\n",
       "</tr>\n",
       "<tr>\n",
       "  <th>race[T.Hispanic]</th>               <td>    0.0053</td> <td>    0.091</td> <td>    0.058</td> <td> 0.953</td> <td>   -0.174</td> <td>    0.184</td>\n",
       "</tr>\n",
       "<tr>\n",
       "  <th>race[T.Other]</th>                  <td>    0.5296</td> <td>    0.094</td> <td>    5.652</td> <td> 0.000</td> <td>    0.346</td> <td>    0.713</td>\n",
       "</tr>\n",
       "<tr>\n",
       "  <th>race[T.White]</th>                  <td>    0.1343</td> <td>    0.083</td> <td>    1.626</td> <td> 0.104</td> <td>   -0.028</td> <td>    0.296</td>\n",
       "</tr>\n",
       "<tr>\n",
       "  <th>diabetes_status[T.Diabetic]</th>    <td>    0.5376</td> <td>    0.021</td> <td>   25.488</td> <td> 0.000</td> <td>    0.496</td> <td>    0.579</td>\n",
       "</tr>\n",
       "<tr>\n",
       "  <th>diabetes_status[T.PrgDiabetic]</th> <td>    0.2981</td> <td>    0.112</td> <td>    2.654</td> <td> 0.008</td> <td>    0.078</td> <td>    0.518</td>\n",
       "</tr>\n",
       "<tr>\n",
       "  <th>_Age</th>                           <td>    0.0439</td> <td>    0.001</td> <td>   58.325</td> <td> 0.000</td> <td>    0.042</td> <td>    0.045</td>\n",
       "</tr>\n",
       "<tr>\n",
       "  <th>bmi_groups</th>                     <td>    0.0398</td> <td>    0.021</td> <td>    1.923</td> <td> 0.055</td> <td>   -0.001</td> <td>    0.080</td>\n",
       "</tr>\n",
       "<tr>\n",
       "  <th>heavy_drinker</th>                  <td>   -0.2603</td> <td>    0.045</td> <td>   -5.785</td> <td> 0.000</td> <td>   -0.349</td> <td>   -0.172</td>\n",
       "</tr>\n",
       "<tr>\n",
       "  <th>heart_attack</th>                   <td>    1.3723</td> <td>    0.022</td> <td>   61.330</td> <td> 0.000</td> <td>    1.328</td> <td>    1.416</td>\n",
       "</tr>\n",
       "<tr>\n",
       "  <th>physical_activity</th>              <td>   -0.4170</td> <td>    0.019</td> <td>  -21.662</td> <td> 0.000</td> <td>   -0.455</td> <td>   -0.379</td>\n",
       "</tr>\n",
       "</table>"
      ],
      "text/plain": [
       "<class 'statsmodels.iolib.summary.Summary'>\n",
       "\"\"\"\n",
       "                 Generalized Linear Model Regression Results                  \n",
       "==============================================================================\n",
       "Dep. Variable:          stroke_status   No. Observations:               339803\n",
       "Model:                            GLM   Df Residuals:                   339787\n",
       "Model Family:                Binomial   Df Model:                           15\n",
       "Link Function:                  Logit   Scale:                          1.0000\n",
       "Method:                          IRLS   Log-Likelihood:                -49506.\n",
       "Date:                Fri, 19 Jan 2024   Deviance:                       99012.\n",
       "Time:                        19:48:04   Pearson chi2:                 3.06e+05\n",
       "No. Iterations:                     8   Pseudo R-squ. (CS):            0.04184\n",
       "Covariance Type:            nonrobust                                         \n",
       "==================================================================================================\n",
       "                                     coef    std err          z      P>|z|      [0.025      0.975]\n",
       "--------------------------------------------------------------------------------------------------\n",
       "Intercept                         -6.2583      0.096    -65.091      0.000      -6.447      -6.070\n",
       "smoking_status[T.EveryDay]         0.6539      0.029     22.778      0.000       0.598       0.710\n",
       "smoking_status[T.Former]           0.2148      0.021     10.396      0.000       0.174       0.255\n",
       "smoking_status[T.SomeDay]          0.6704      0.044     15.297      0.000       0.584       0.756\n",
       "race[T.Alaskan]                    0.5937      0.101      5.900      0.000       0.396       0.791\n",
       "race[T.Black]                      0.6484      0.087      7.484      0.000       0.479       0.818\n",
       "race[T.Hispanic]                   0.0053      0.091      0.058      0.953      -0.174       0.184\n",
       "race[T.Other]                      0.5296      0.094      5.652      0.000       0.346       0.713\n",
       "race[T.White]                      0.1343      0.083      1.626      0.104      -0.028       0.296\n",
       "diabetes_status[T.Diabetic]        0.5376      0.021     25.488      0.000       0.496       0.579\n",
       "diabetes_status[T.PrgDiabetic]     0.2981      0.112      2.654      0.008       0.078       0.518\n",
       "_Age                               0.0439      0.001     58.325      0.000       0.042       0.045\n",
       "bmi_groups                         0.0398      0.021      1.923      0.055      -0.001       0.080\n",
       "heavy_drinker                     -0.2603      0.045     -5.785      0.000      -0.349      -0.172\n",
       "heart_attack                       1.3723      0.022     61.330      0.000       1.328       1.416\n",
       "physical_activity                 -0.4170      0.019    -21.662      0.000      -0.455      -0.379\n",
       "==================================================================================================\n",
       "\"\"\""
      ]
     },
     "execution_count": 29,
     "metadata": {},
     "output_type": "execute_result"
    }
   ],
   "source": [
    "model = sm.GLM.from_formula(\"stroke_status ~ smoking_status + _Age + race + bmi_groups + diabetes_status + heavy_drinker + heart_attack + physical_activity\", family=sm.families.Binomial(), data=stroke_rf)\n",
    "result = model.fit()\n",
    "result.summary()"
   ]
  },
  {
   "cell_type": "markdown",
   "id": "9e54b272",
   "metadata": {},
   "source": [
    "**Removing BMI Groups as the P-value of this varible is not significant i.e. the P-value is greater than 0.05**"
   ]
  },
  {
   "cell_type": "code",
   "execution_count": 39,
   "id": "de259ac2",
   "metadata": {},
   "outputs": [
    {
     "data": {
      "text/html": [
       "<table class=\"simpletable\">\n",
       "<caption>Generalized Linear Model Regression Results</caption>\n",
       "<tr>\n",
       "  <th>Dep. Variable:</th>     <td>stroke_status</td>  <th>  No. Observations:  </th>  <td>339803</td> \n",
       "</tr>\n",
       "<tr>\n",
       "  <th>Model:</th>                  <td>GLM</td>       <th>  Df Residuals:      </th>  <td>339788</td> \n",
       "</tr>\n",
       "<tr>\n",
       "  <th>Model Family:</th>        <td>Binomial</td>     <th>  Df Model:          </th>  <td>    14</td> \n",
       "</tr>\n",
       "<tr>\n",
       "  <th>Link Function:</th>         <td>Logit</td>      <th>  Scale:             </th> <td>  1.0000</td>\n",
       "</tr>\n",
       "<tr>\n",
       "  <th>Method:</th>                <td>IRLS</td>       <th>  Log-Likelihood:    </th> <td> -49508.</td>\n",
       "</tr>\n",
       "<tr>\n",
       "  <th>Date:</th>            <td>Tue, 23 Jan 2024</td> <th>  Deviance:          </th> <td>  99016.</td>\n",
       "</tr>\n",
       "<tr>\n",
       "  <th>Time:</th>                <td>23:57:58</td>     <th>  Pearson chi2:      </th> <td>3.06e+05</td>\n",
       "</tr>\n",
       "<tr>\n",
       "  <th>No. Iterations:</th>          <td>8</td>        <th>  Pseudo R-squ. (CS):</th>  <td>0.04183</td>\n",
       "</tr>\n",
       "<tr>\n",
       "  <th>Covariance Type:</th>     <td>nonrobust</td>    <th>                     </th>     <td> </td>   \n",
       "</tr>\n",
       "</table>\n",
       "<table class=\"simpletable\">\n",
       "<tr>\n",
       "                 <td></td>                   <th>coef</th>     <th>std err</th>      <th>z</th>      <th>P>|z|</th>  <th>[0.025</th>    <th>0.975]</th>  \n",
       "</tr>\n",
       "<tr>\n",
       "  <th>Intercept</th>                      <td>   -6.2293</td> <td>    0.095</td> <td>  -65.641</td> <td> 0.000</td> <td>   -6.415</td> <td>   -6.043</td>\n",
       "</tr>\n",
       "<tr>\n",
       "  <th>smoking_status[T.EveryDay]</th>     <td>    0.6499</td> <td>    0.029</td> <td>   22.698</td> <td> 0.000</td> <td>    0.594</td> <td>    0.706</td>\n",
       "</tr>\n",
       "<tr>\n",
       "  <th>smoking_status[T.Former]</th>       <td>    0.2160</td> <td>    0.021</td> <td>   10.457</td> <td> 0.000</td> <td>    0.175</td> <td>    0.256</td>\n",
       "</tr>\n",
       "<tr>\n",
       "  <th>smoking_status[T.SomeDay]</th>      <td>    0.6666</td> <td>    0.044</td> <td>   15.227</td> <td> 0.000</td> <td>    0.581</td> <td>    0.752</td>\n",
       "</tr>\n",
       "<tr>\n",
       "  <th>race[T.Alaskan]</th>                <td>    0.6033</td> <td>    0.101</td> <td>    6.003</td> <td> 0.000</td> <td>    0.406</td> <td>    0.800</td>\n",
       "</tr>\n",
       "<tr>\n",
       "  <th>race[T.Black]</th>                  <td>    0.6591</td> <td>    0.086</td> <td>    7.623</td> <td> 0.000</td> <td>    0.490</td> <td>    0.829</td>\n",
       "</tr>\n",
       "<tr>\n",
       "  <th>race[T.Hispanic]</th>               <td>    0.0143</td> <td>    0.091</td> <td>    0.157</td> <td> 0.875</td> <td>   -0.164</td> <td>    0.193</td>\n",
       "</tr>\n",
       "<tr>\n",
       "  <th>race[T.Other]</th>                  <td>    0.5391</td> <td>    0.094</td> <td>    5.762</td> <td> 0.000</td> <td>    0.356</td> <td>    0.723</td>\n",
       "</tr>\n",
       "<tr>\n",
       "  <th>race[T.White]</th>                  <td>    0.1432</td> <td>    0.082</td> <td>    1.736</td> <td> 0.083</td> <td>   -0.018</td> <td>    0.305</td>\n",
       "</tr>\n",
       "<tr>\n",
       "  <th>diabetes_status[T.Diabetic]</th>    <td>    0.5444</td> <td>    0.021</td> <td>   26.174</td> <td> 0.000</td> <td>    0.504</td> <td>    0.585</td>\n",
       "</tr>\n",
       "<tr>\n",
       "  <th>diabetes_status[T.PrgDiabetic]</th> <td>    0.2964</td> <td>    0.112</td> <td>    2.639</td> <td> 0.008</td> <td>    0.076</td> <td>    0.516</td>\n",
       "</tr>\n",
       "<tr>\n",
       "  <th>_Age</th>                           <td>    0.0437</td> <td>    0.001</td> <td>   58.520</td> <td> 0.000</td> <td>    0.042</td> <td>    0.045</td>\n",
       "</tr>\n",
       "<tr>\n",
       "  <th>heavy_drinker</th>                  <td>   -0.2621</td> <td>    0.045</td> <td>   -5.824</td> <td> 0.000</td> <td>   -0.350</td> <td>   -0.174</td>\n",
       "</tr>\n",
       "<tr>\n",
       "  <th>heart_attack</th>                   <td>    1.3733</td> <td>    0.022</td> <td>   61.386</td> <td> 0.000</td> <td>    1.329</td> <td>    1.417</td>\n",
       "</tr>\n",
       "<tr>\n",
       "  <th>physical_activity</th>              <td>   -0.4197</td> <td>    0.019</td> <td>  -21.850</td> <td> 0.000</td> <td>   -0.457</td> <td>   -0.382</td>\n",
       "</tr>\n",
       "</table>"
      ],
      "text/plain": [
       "<class 'statsmodels.iolib.summary.Summary'>\n",
       "\"\"\"\n",
       "                 Generalized Linear Model Regression Results                  \n",
       "==============================================================================\n",
       "Dep. Variable:          stroke_status   No. Observations:               339803\n",
       "Model:                            GLM   Df Residuals:                   339788\n",
       "Model Family:                Binomial   Df Model:                           14\n",
       "Link Function:                  Logit   Scale:                          1.0000\n",
       "Method:                          IRLS   Log-Likelihood:                -49508.\n",
       "Date:                Tue, 23 Jan 2024   Deviance:                       99016.\n",
       "Time:                        23:57:58   Pearson chi2:                 3.06e+05\n",
       "No. Iterations:                     8   Pseudo R-squ. (CS):            0.04183\n",
       "Covariance Type:            nonrobust                                         \n",
       "==================================================================================================\n",
       "                                     coef    std err          z      P>|z|      [0.025      0.975]\n",
       "--------------------------------------------------------------------------------------------------\n",
       "Intercept                         -6.2293      0.095    -65.641      0.000      -6.415      -6.043\n",
       "smoking_status[T.EveryDay]         0.6499      0.029     22.698      0.000       0.594       0.706\n",
       "smoking_status[T.Former]           0.2160      0.021     10.457      0.000       0.175       0.256\n",
       "smoking_status[T.SomeDay]          0.6666      0.044     15.227      0.000       0.581       0.752\n",
       "race[T.Alaskan]                    0.6033      0.101      6.003      0.000       0.406       0.800\n",
       "race[T.Black]                      0.6591      0.086      7.623      0.000       0.490       0.829\n",
       "race[T.Hispanic]                   0.0143      0.091      0.157      0.875      -0.164       0.193\n",
       "race[T.Other]                      0.5391      0.094      5.762      0.000       0.356       0.723\n",
       "race[T.White]                      0.1432      0.082      1.736      0.083      -0.018       0.305\n",
       "diabetes_status[T.Diabetic]        0.5444      0.021     26.174      0.000       0.504       0.585\n",
       "diabetes_status[T.PrgDiabetic]     0.2964      0.112      2.639      0.008       0.076       0.516\n",
       "_Age                               0.0437      0.001     58.520      0.000       0.042       0.045\n",
       "heavy_drinker                     -0.2621      0.045     -5.824      0.000      -0.350      -0.174\n",
       "heart_attack                       1.3733      0.022     61.386      0.000       1.329       1.417\n",
       "physical_activity                 -0.4197      0.019    -21.850      0.000      -0.457      -0.382\n",
       "==================================================================================================\n",
       "\"\"\""
      ]
     },
     "execution_count": 39,
     "metadata": {},
     "output_type": "execute_result"
    }
   ],
   "source": [
    "model = sm.GLM.from_formula(\"stroke_status ~ smoking_status + _Age + race + diabetes_status + heavy_drinker + heart_attack + physical_activity\", family=sm.families.Binomial(), data=stroke_rf)\n",
    "result = model.fit()\n",
    "result.summary()"
   ]
  },
  {
   "cell_type": "markdown",
   "id": "752f62b7",
   "metadata": {},
   "source": [
    "## Final results of the Logistic Regression Model"
   ]
  },
  {
   "cell_type": "markdown",
   "id": "6aac93e4",
   "metadata": {},
   "source": [
    "The logistic regression results indicate the following relationships between various covariates and the odds of having a stroke:\n",
    "\n",
    "**Intercept:** \n",
    "\n",
    "The baseline odds of having a stroke, when all predictors are at their reference levels, is approximately 0.002.\n",
    "\n",
    "**Smoking Status:**\n",
    "\n",
    "- *Every day smokers* have about 1.92 times higher odds of having a stroke compared to *non-smokers.*\n",
    "- *Former smokers* have about 1.24 times higher odds of having a stroke compared to *non-smokers.*\n",
    "- *Some day smokers* have about 1.96 times higher odds of having a stroke compared to *non-smokers.*\n",
    "\n",
    "**Race:**\n",
    "\n",
    "- *Alaskans* have about 1.81 times higher odds of having a stroke compared to *Asians.*\n",
    "- *Black* people have about 1.91 times higher odds of having a stroke compared to *Asians.*\n",
    "- *Hispanic* people have about 1.01 times higher odds of having a stroke compared to *Asians.*\n",
    "- *White* people have about 1.7 times higher odds of having a stroke compared to *Asians.*\n",
    "- *Races* other than those mentioned have about 1.343 times higher odds of having a stroke compared to *Asians.*\n",
    "\n",
    "**Diabetes Status:**\n",
    "\n",
    "- *Diabetic individuals* have about 1.7 times higher odds of having a stroke compared to *non-diabetic individuals.*\n",
    "- *Diabetic pregnant women* have about 1.35 times higher odds of having a stroke compared to *non-diabetic individuals.*\n",
    "\n",
    "**Age (_Age):** \n",
    "\n",
    "For every one-year increase in age, the odds of having a stroke increase by a factor of 1.04.\n",
    "\n",
    "**Heavy Drinker:** \n",
    "\n",
    "*Heavy drinkers* have about 0.77 times lower odds of having a stroke compared to individuals who are not *heavy drinkers.*\n",
    "\n",
    "**Heart Attack:** \n",
    "\n",
    "Individuals who had a heart attack have about 3.94 times higher odds of having a stroke compared to individuals who didn't have a heart attack.\n",
    "\n",
    "**Physical Activity:** \n",
    "\n",
    "*Physically active* individuals have about 0.66 times lower odds of having a stroke compared to *physically inactive* individuals."
   ]
  },
  {
   "cell_type": "code",
   "execution_count": null,
   "id": "abcb3b78",
   "metadata": {},
   "outputs": [],
   "source": []
  }
 ],
 "metadata": {
  "kernelspec": {
   "display_name": "Python 3 (ipykernel)",
   "language": "python",
   "name": "python3"
  },
  "language_info": {
   "codemirror_mode": {
    "name": "ipython",
    "version": 3
   },
   "file_extension": ".py",
   "mimetype": "text/x-python",
   "name": "python",
   "nbconvert_exporter": "python",
   "pygments_lexer": "ipython3",
   "version": "3.9.13"
  }
 },
 "nbformat": 4,
 "nbformat_minor": 5
}
